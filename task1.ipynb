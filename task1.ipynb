{
 "cells": [
  {
   "cell_type": "code",
   "execution_count": 6,
   "id": "25a0fde7-9b5d-47a1-87d6-66733f3d5736",
   "metadata": {},
   "outputs": [],
   "source": [
    "import tkinter as tk\n",
    "from tkinter import messagebox\n",
    "\n",
    "class TodoApp:\n",
    "    def __init__(self, root):\n",
    "        self.root = root\n",
    "        self.root.title(\"To-Do List\")\n",
    "        self.tasks = []\n",
    "\n",
    "        self.task_listbox = tk.Listbox(root)\n",
    "        self.task_listbox.pack()\n",
    "\n",
    "        self.entry = tk.Entry(root)\n",
    "        self.entry.pack()\n",
    "\n",
    "        self.add_button = tk.Button(root, text=\"Add Task\", command=self.add_task)\n",
    "        self.add_button.pack()\n",
    "\n",
    "        self.update_button = tk.Button(root, text=\"Update Task\", command=self.update_task)\n",
    "        self.update_button.pack()\n",
    "\n",
    "        self.delete_button = tk.Button(root, text=\"Delete Task\", command=self.delete_task)\n",
    "        self.delete_button.pack()\n",
    "\n",
    "    def add_task(self):\n",
    "        task = self.entry.get()\n",
    "        if task:\n",
    "            self.tasks.append(task)\n",
    "            self.task_listbox.insert(tk.END, task)\n",
    "            self.entry.delete(0, tk.END)\n",
    "\n",
    "    def update_task(self):\n",
    "        selected_task_index = self.task_listbox.curselection()\n",
    "        if selected_task_index:\n",
    "            new_task = self.entry.get()\n",
    "            if new_task:\n",
    "                self.tasks[selected_task_index[0]] = new_task\n",
    "                self.task_listbox.delete(selected_task_index)\n",
    "                self.task_listbox.insert(selected_task_index, new_task)\n",
    "                self.entry.delete(0, tk.END)\n",
    "\n",
    "    def delete_task(self):\n",
    "        selected_task_index = self.task_listbox.curselection()\n",
    "        if selected_task_index:\n",
    "            self.tasks.pop(selected_task_index[0])\n",
    "            self.task_listbox.delete(selected_task_index)\n",
    "\n",
    "if __name__ == \"__main__\":\n",
    "    root = tk.Tk()\n",
    "    app = TodoApp(root)\n",
    "    root.mainloop()\n"
   ]
  }
 ],
 "metadata": {
  "kernelspec": {
   "display_name": "Python 3 (ipykernel)",
   "language": "python",
   "name": "python3"
  },
  "language_info": {
   "codemirror_mode": {
    "name": "ipython",
    "version": 3
   },
   "file_extension": ".py",
   "mimetype": "text/x-python",
   "name": "python",
   "nbconvert_exporter": "python",
   "pygments_lexer": "ipython3",
   "version": "3.11.4"
  }
 },
 "nbformat": 4,
 "nbformat_minor": 5
}
